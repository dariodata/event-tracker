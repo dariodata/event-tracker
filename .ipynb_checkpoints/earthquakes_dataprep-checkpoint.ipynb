{
 "cells": [
  {
   "cell_type": "code",
   "execution_count": 4,
   "metadata": {
    "collapsed": false
   },
   "outputs": [],
   "source": [
    "import pandas as pd\n",
    "from datetime import datetime"
   ]
  },
  {
   "cell_type": "code",
   "execution_count": 13,
   "metadata": {
    "collapsed": false
   },
   "outputs": [
    {
     "data": {
      "text/html": [
       "<div>\n",
       "<table border=\"1\" class=\"dataframe\">\n",
       "  <thead>\n",
       "    <tr style=\"text-align: right;\">\n",
       "      <th></th>\n",
       "      <th>Date</th>\n",
       "      <th>Zone/Region</th>\n",
       "      <th>Magnitude (Mw)</th>\n",
       "      <th>Year</th>\n",
       "    </tr>\n",
       "  </thead>\n",
       "  <tbody>\n",
       "    <tr>\n",
       "      <th>0</th>\n",
       "      <td>December 09</td>\n",
       "      <td>SOLOMON ISLANDS</td>\n",
       "      <td>6.9</td>\n",
       "      <td>2016</td>\n",
       "    </tr>\n",
       "    <tr>\n",
       "      <th>1</th>\n",
       "      <td>December 08</td>\n",
       "      <td>CALIFORNIA</td>\n",
       "      <td>6.5</td>\n",
       "      <td>2016</td>\n",
       "    </tr>\n",
       "    <tr>\n",
       "      <th>2</th>\n",
       "      <td>December 08</td>\n",
       "      <td>SOLOMON ISLANDS</td>\n",
       "      <td>7.8</td>\n",
       "      <td>2016</td>\n",
       "    </tr>\n",
       "    <tr>\n",
       "      <th>3</th>\n",
       "      <td>December 06</td>\n",
       "      <td>SUMATRA</td>\n",
       "      <td>6.5</td>\n",
       "      <td>2016</td>\n",
       "    </tr>\n",
       "    <tr>\n",
       "      <th>4</th>\n",
       "      <td>November 25</td>\n",
       "      <td>CHINA</td>\n",
       "      <td>6.6</td>\n",
       "      <td>2016</td>\n",
       "    </tr>\n",
       "  </tbody>\n",
       "</table>\n",
       "</div>"
      ],
      "text/plain": [
       "          Date       Zone/Region  Magnitude (Mw)  Year\n",
       "0  December 09   SOLOMON ISLANDS             6.9  2016\n",
       "1  December 08        CALIFORNIA             6.5  2016\n",
       "2  December 08   SOLOMON ISLANDS             7.8  2016\n",
       "3  December 06           SUMATRA             6.5  2016\n",
       "4  November 25             CHINA             6.6  2016"
      ]
     },
     "execution_count": 13,
     "metadata": {},
     "output_type": "execute_result"
    }
   ],
   "source": [
    "df = pd.read_csv('data/earthquakes_raw.csv', sep=';')\n",
    "df.dropna((0,1), how='all', inplace=True)\n",
    "df.head()"
   ]
  },
  {
   "cell_type": "code",
   "execution_count": 12,
   "metadata": {
    "collapsed": false
   },
   "outputs": [
    {
     "data": {
      "text/html": [
       "<div>\n",
       "<table border=\"1\" class=\"dataframe\">\n",
       "  <thead>\n",
       "    <tr style=\"text-align: right;\">\n",
       "      <th></th>\n",
       "      <th>Date</th>\n",
       "      <th>Zone/Region</th>\n",
       "      <th>Magnitude (Mw)</th>\n",
       "    </tr>\n",
       "  </thead>\n",
       "  <tbody>\n",
       "    <tr>\n",
       "      <th>99</th>\n",
       "      <td>2015-02-19</td>\n",
       "      <td>VANUATU</td>\n",
       "      <td>6.5</td>\n",
       "    </tr>\n",
       "    <tr>\n",
       "      <th>100</th>\n",
       "      <td>2015-02-16</td>\n",
       "      <td>JAPAN</td>\n",
       "      <td>6.8</td>\n",
       "    </tr>\n",
       "    <tr>\n",
       "      <th>101</th>\n",
       "      <td>2015-02-13</td>\n",
       "      <td>REYKJANES RIDGE</td>\n",
       "      <td>7.0</td>\n",
       "    </tr>\n",
       "    <tr>\n",
       "      <th>102</th>\n",
       "      <td>2015-02-11</td>\n",
       "      <td>ARGENTINA</td>\n",
       "      <td>6.6</td>\n",
       "    </tr>\n",
       "    <tr>\n",
       "      <th>103</th>\n",
       "      <td>2015-01-23</td>\n",
       "      <td>VANUATU</td>\n",
       "      <td>6.7</td>\n",
       "    </tr>\n",
       "  </tbody>\n",
       "</table>\n",
       "</div>"
      ],
      "text/plain": [
       "          Date       Zone/Region  Magnitude (Mw)\n",
       "99  2015-02-19           VANUATU             6.5\n",
       "100 2015-02-16             JAPAN             6.8\n",
       "101 2015-02-13   REYKJANES RIDGE             7.0\n",
       "102 2015-02-11         ARGENTINA             6.6\n",
       "103 2015-01-23           VANUATU             6.7"
      ]
     },
     "execution_count": 12,
     "metadata": {},
     "output_type": "execute_result"
    }
   ],
   "source": [
    "df['Date'] = df['Date'] + ' ' + df['Year'].map(str)\n",
    "del df['Year']\n",
    "df['Date'] = df['Date'].apply(lambda x: \n",
    "                              datetime.strptime(x, '%B %d %Y'))\n",
    "df.tail()"
   ]
  },
  {
   "cell_type": "code",
   "execution_count": 176,
   "metadata": {
    "collapsed": false
   },
   "outputs": [],
   "source": [
    "df['Date'].to_csv('data/earthquakes.csv')"
   ]
  },
  {
   "cell_type": "code",
   "execution_count": null,
   "metadata": {
    "collapsed": true
   },
   "outputs": [],
   "source": []
  }
 ],
 "metadata": {
  "anaconda-cloud": {},
  "kernelspec": {
   "display_name": "Python [conda env:tensorflow]",
   "language": "python",
   "name": "conda-env-tensorflow-py"
  },
  "language_info": {
   "codemirror_mode": {
    "name": "ipython",
    "version": 3
   },
   "file_extension": ".py",
   "mimetype": "text/x-python",
   "name": "python",
   "nbconvert_exporter": "python",
   "pygments_lexer": "ipython3",
   "version": "3.5.2"
  }
 },
 "nbformat": 4,
 "nbformat_minor": 1
}
