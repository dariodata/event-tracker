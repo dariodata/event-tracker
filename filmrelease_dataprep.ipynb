{
 "cells": [
  {
   "cell_type": "code",
   "execution_count": 1,
   "metadata": {
    "collapsed": false
   },
   "outputs": [],
   "source": [
    "import numpy as np\n",
    "import pandas as pd\n",
    "from datetime import datetime"
   ]
  },
  {
   "cell_type": "code",
   "execution_count": 3,
   "metadata": {
    "collapsed": false
   },
   "outputs": [
    {
     "data": {
      "text/html": [
       "<div>\n",
       "<table border=\"1\" class=\"dataframe\">\n",
       "  <thead>\n",
       "    <tr style=\"text-align: right;\">\n",
       "      <th></th>\n",
       "      <th>Date</th>\n",
       "      <th>Film1</th>\n",
       "      <th>Film2</th>\n",
       "      <th>Film3</th>\n",
       "      <th>Film4</th>\n",
       "      <th>Film5</th>\n",
       "    </tr>\n",
       "  </thead>\n",
       "  <tbody>\n",
       "    <tr>\n",
       "      <th>0</th>\n",
       "      <td>Friday, January 9, 2015</td>\n",
       "      <td>Taken 3</td>\n",
       "      <td>NaN</td>\n",
       "      <td>NaN</td>\n",
       "      <td>NaN</td>\n",
       "      <td>NaN</td>\n",
       "    </tr>\n",
       "    <tr>\n",
       "      <th>4</th>\n",
       "      <td>Friday, January 16, 2015</td>\n",
       "      <td>Blackhat</td>\n",
       "      <td>Paddington</td>\n",
       "      <td>The Wedding Ringer</td>\n",
       "      <td>NaN</td>\n",
       "      <td>NaN</td>\n",
       "    </tr>\n",
       "    <tr>\n",
       "      <th>14</th>\n",
       "      <td>Friday, January 23, 2015</td>\n",
       "      <td>Mortdecai</td>\n",
       "      <td>Strange Magic</td>\n",
       "      <td>The Boy Next Door</td>\n",
       "      <td>NaN</td>\n",
       "      <td>NaN</td>\n",
       "    </tr>\n",
       "    <tr>\n",
       "      <th>24</th>\n",
       "      <td>Friday, January 30, 2015</td>\n",
       "      <td>Black or White</td>\n",
       "      <td>Project Almanac</td>\n",
       "      <td>The Loft</td>\n",
       "      <td>NaN</td>\n",
       "      <td>NaN</td>\n",
       "    </tr>\n",
       "    <tr>\n",
       "      <th>34</th>\n",
       "      <td>Friday, February 6, 2015</td>\n",
       "      <td>Jupiter Ascending</td>\n",
       "      <td>Seventh Son</td>\n",
       "      <td>SpongeBob Movie: Sponge Out of Water</td>\n",
       "      <td>NaN</td>\n",
       "      <td>NaN</td>\n",
       "    </tr>\n",
       "  </tbody>\n",
       "</table>\n",
       "</div>"
      ],
      "text/plain": [
       "                        Date              Film1            Film2  \\\n",
       "0    Friday, January 9, 2015            Taken 3              NaN   \n",
       "4   Friday, January 16, 2015           Blackhat       Paddington   \n",
       "14  Friday, January 23, 2015          Mortdecai    Strange Magic   \n",
       "24  Friday, January 30, 2015     Black or White  Project Almanac   \n",
       "34  Friday, February 6, 2015  Jupiter Ascending      Seventh Son   \n",
       "\n",
       "                                   Film3 Film4 Film5  \n",
       "0                                    NaN   NaN   NaN  \n",
       "4                     The Wedding Ringer   NaN   NaN  \n",
       "14                     The Boy Next Door   NaN   NaN  \n",
       "24                              The Loft   NaN   NaN  \n",
       "34  SpongeBob Movie: Sponge Out of Water   NaN   NaN  "
      ]
     },
     "execution_count": 3,
     "metadata": {},
     "output_type": "execute_result"
    }
   ],
   "source": [
    "df = pd.read_csv('data/filmrelease_raw.csv', sep=';', header=None)\n",
    "df.dropna((0,1), how='all', inplace=True, thresh=2)\n",
    "df.columns = ['Date', 'Film1', 'Film2', 'Film3', 'Film4', 'Film5']\n",
    "df.head()"
   ]
  },
  {
   "cell_type": "code",
   "execution_count": 4,
   "metadata": {
    "collapsed": false
   },
   "outputs": [
    {
     "data": {
      "text/html": [
       "<div>\n",
       "<table border=\"1\" class=\"dataframe\">\n",
       "  <thead>\n",
       "    <tr style=\"text-align: right;\">\n",
       "      <th></th>\n",
       "      <th>Date</th>\n",
       "      <th>Film1</th>\n",
       "      <th>Film2</th>\n",
       "      <th>Film3</th>\n",
       "      <th>Film4</th>\n",
       "      <th>Film5</th>\n",
       "    </tr>\n",
       "  </thead>\n",
       "  <tbody>\n",
       "    <tr>\n",
       "      <th>0</th>\n",
       "      <td>2015-01-09</td>\n",
       "      <td>Taken 3</td>\n",
       "      <td>NaN</td>\n",
       "      <td>NaN</td>\n",
       "      <td>NaN</td>\n",
       "      <td>NaN</td>\n",
       "    </tr>\n",
       "    <tr>\n",
       "      <th>4</th>\n",
       "      <td>2015-01-16</td>\n",
       "      <td>Blackhat</td>\n",
       "      <td>Paddington</td>\n",
       "      <td>The Wedding Ringer</td>\n",
       "      <td>NaN</td>\n",
       "      <td>NaN</td>\n",
       "    </tr>\n",
       "    <tr>\n",
       "      <th>14</th>\n",
       "      <td>2015-01-23</td>\n",
       "      <td>Mortdecai</td>\n",
       "      <td>Strange Magic</td>\n",
       "      <td>The Boy Next Door</td>\n",
       "      <td>NaN</td>\n",
       "      <td>NaN</td>\n",
       "    </tr>\n",
       "    <tr>\n",
       "      <th>24</th>\n",
       "      <td>2015-01-30</td>\n",
       "      <td>Black or White</td>\n",
       "      <td>Project Almanac</td>\n",
       "      <td>The Loft</td>\n",
       "      <td>NaN</td>\n",
       "      <td>NaN</td>\n",
       "    </tr>\n",
       "    <tr>\n",
       "      <th>34</th>\n",
       "      <td>2015-02-06</td>\n",
       "      <td>Jupiter Ascending</td>\n",
       "      <td>Seventh Son</td>\n",
       "      <td>SpongeBob Movie: Sponge Out of Water</td>\n",
       "      <td>NaN</td>\n",
       "      <td>NaN</td>\n",
       "    </tr>\n",
       "  </tbody>\n",
       "</table>\n",
       "</div>"
      ],
      "text/plain": [
       "         Date              Film1            Film2  \\\n",
       "0  2015-01-09            Taken 3              NaN   \n",
       "4  2015-01-16           Blackhat       Paddington   \n",
       "14 2015-01-23          Mortdecai    Strange Magic   \n",
       "24 2015-01-30     Black or White  Project Almanac   \n",
       "34 2015-02-06  Jupiter Ascending      Seventh Son   \n",
       "\n",
       "                                   Film3 Film4 Film5  \n",
       "0                                    NaN   NaN   NaN  \n",
       "4                     The Wedding Ringer   NaN   NaN  \n",
       "14                     The Boy Next Door   NaN   NaN  \n",
       "24                              The Loft   NaN   NaN  \n",
       "34  SpongeBob Movie: Sponge Out of Water   NaN   NaN  "
      ]
     },
     "execution_count": 4,
     "metadata": {},
     "output_type": "execute_result"
    }
   ],
   "source": [
    "df.loc[lambda x: x.index >= 716, 'Date'] += ', 2016'\n",
    "df['Date'] = df['Date'].apply(lambda x: \n",
    "                              datetime.strptime(x, '%A, %B %d, %Y'))\n",
    "df.head()"
   ]
  },
  {
   "cell_type": "code",
   "execution_count": 6,
   "metadata": {
    "collapsed": false
   },
   "outputs": [
    {
     "data": {
      "text/html": [
       "<div>\n",
       "<table border=\"1\" class=\"dataframe\">\n",
       "  <thead>\n",
       "    <tr style=\"text-align: right;\">\n",
       "      <th></th>\n",
       "      <th>Date</th>\n",
       "      <th>Film1</th>\n",
       "      <th>Film2</th>\n",
       "      <th>Film3</th>\n",
       "      <th>Film4</th>\n",
       "      <th>Film5</th>\n",
       "    </tr>\n",
       "  </thead>\n",
       "  <tbody>\n",
       "    <tr>\n",
       "      <th>0</th>\n",
       "      <td>2015-01-09</td>\n",
       "      <td>1.0</td>\n",
       "      <td>NaN</td>\n",
       "      <td>NaN</td>\n",
       "      <td>NaN</td>\n",
       "      <td>NaN</td>\n",
       "    </tr>\n",
       "    <tr>\n",
       "      <th>4</th>\n",
       "      <td>2015-01-16</td>\n",
       "      <td>1.0</td>\n",
       "      <td>1.0</td>\n",
       "      <td>1.0</td>\n",
       "      <td>NaN</td>\n",
       "      <td>NaN</td>\n",
       "    </tr>\n",
       "    <tr>\n",
       "      <th>14</th>\n",
       "      <td>2015-01-23</td>\n",
       "      <td>1.0</td>\n",
       "      <td>1.0</td>\n",
       "      <td>1.0</td>\n",
       "      <td>NaN</td>\n",
       "      <td>NaN</td>\n",
       "    </tr>\n",
       "    <tr>\n",
       "      <th>24</th>\n",
       "      <td>2015-01-30</td>\n",
       "      <td>1.0</td>\n",
       "      <td>1.0</td>\n",
       "      <td>1.0</td>\n",
       "      <td>NaN</td>\n",
       "      <td>NaN</td>\n",
       "    </tr>\n",
       "    <tr>\n",
       "      <th>34</th>\n",
       "      <td>2015-02-06</td>\n",
       "      <td>1.0</td>\n",
       "      <td>1.0</td>\n",
       "      <td>1.0</td>\n",
       "      <td>NaN</td>\n",
       "      <td>NaN</td>\n",
       "    </tr>\n",
       "  </tbody>\n",
       "</table>\n",
       "</div>"
      ],
      "text/plain": [
       "         Date  Film1  Film2  Film3  Film4  Film5\n",
       "0  2015-01-09    1.0    NaN    NaN    NaN    NaN\n",
       "4  2015-01-16    1.0    1.0    1.0    NaN    NaN\n",
       "14 2015-01-23    1.0    1.0    1.0    NaN    NaN\n",
       "24 2015-01-30    1.0    1.0    1.0    NaN    NaN\n",
       "34 2015-02-06    1.0    1.0    1.0    NaN    NaN"
      ]
     },
     "execution_count": 6,
     "metadata": {},
     "output_type": "execute_result"
    }
   ],
   "source": [
    "# replace movie names with ones\n",
    "df.iloc[:,1:] = df.iloc[:,1:].replace(r'\\w', 1.0, regex=True)\n",
    "df.head()"
   ]
  },
  {
   "cell_type": "code",
   "execution_count": 7,
   "metadata": {
    "collapsed": false
   },
   "outputs": [
    {
     "data": {
      "text/html": [
       "<div>\n",
       "<table border=\"1\" class=\"dataframe\">\n",
       "  <thead>\n",
       "    <tr style=\"text-align: right;\">\n",
       "      <th></th>\n",
       "      <th>Date</th>\n",
       "      <th>film_sum</th>\n",
       "    </tr>\n",
       "  </thead>\n",
       "  <tbody>\n",
       "    <tr>\n",
       "      <th>0</th>\n",
       "      <td>2015-01-09</td>\n",
       "      <td>1.0</td>\n",
       "    </tr>\n",
       "    <tr>\n",
       "      <th>4</th>\n",
       "      <td>2015-01-16</td>\n",
       "      <td>3.0</td>\n",
       "    </tr>\n",
       "    <tr>\n",
       "      <th>14</th>\n",
       "      <td>2015-01-23</td>\n",
       "      <td>3.0</td>\n",
       "    </tr>\n",
       "    <tr>\n",
       "      <th>24</th>\n",
       "      <td>2015-01-30</td>\n",
       "      <td>3.0</td>\n",
       "    </tr>\n",
       "    <tr>\n",
       "      <th>34</th>\n",
       "      <td>2015-02-06</td>\n",
       "      <td>3.0</td>\n",
       "    </tr>\n",
       "  </tbody>\n",
       "</table>\n",
       "</div>"
      ],
      "text/plain": [
       "         Date  film_sum\n",
       "0  2015-01-09       1.0\n",
       "4  2015-01-16       3.0\n",
       "14 2015-01-23       3.0\n",
       "24 2015-01-30       3.0\n",
       "34 2015-02-06       3.0"
      ]
     },
     "execution_count": 7,
     "metadata": {},
     "output_type": "execute_result"
    }
   ],
   "source": [
    "df['film_sum'] =df[['Film1', 'Film2', 'Film3', 'Film4', 'Film5']].sum(axis=1)\n",
    "df.drop(['Film1', 'Film2', 'Film3', 'Film4', 'Film5'], axis=1, inplace=True)\n",
    "df.head()"
   ]
  },
  {
   "cell_type": "code",
   "execution_count": 190,
   "metadata": {
    "collapsed": false
   },
   "outputs": [],
   "source": [
    "df.to_csv('data/filmrelease.csv')"
   ]
  },
  {
   "cell_type": "code",
   "execution_count": null,
   "metadata": {
    "collapsed": true
   },
   "outputs": [],
   "source": []
  }
 ],
 "metadata": {
  "anaconda-cloud": {},
  "kernelspec": {
   "display_name": "Python [conda env:tensorflow]",
   "language": "python",
   "name": "conda-env-tensorflow-py"
  },
  "language_info": {
   "codemirror_mode": {
    "name": "ipython",
    "version": 3
   },
   "file_extension": ".py",
   "mimetype": "text/x-python",
   "name": "python",
   "nbconvert_exporter": "python",
   "pygments_lexer": "ipython3",
   "version": "3.5.2"
  }
 },
 "nbformat": 4,
 "nbformat_minor": 1
}
